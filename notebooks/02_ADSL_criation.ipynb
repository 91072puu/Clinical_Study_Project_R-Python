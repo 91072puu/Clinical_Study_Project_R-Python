#Read data
import pandas as pd

ae=pd.read_sas("ae.xpt", format="xport")
dm=pd.read_sas("dm.xpt", format="xport")

#ae.head()
#ae.describe()

# TRTSDT and TRTEDT
ex_trtsdt = ex.groupby("USUBJID")["EXSTDTC"].min().reset_index().rename(columns={"EXSTDTC": "TRTSDT"})
ex_trtedt = ex.groupby("USUBJID")["EXSTDTC"].max().reset_index().rename(columns={"EXENDTC": "TRTEDT"})

# Merge to DM
adsl = pd.merge(dm, ex_trtsdt, on="USUBJID", how="left")

# Age to Integer
adsl["AGE"] = adsl["AGE"].astype("int")
