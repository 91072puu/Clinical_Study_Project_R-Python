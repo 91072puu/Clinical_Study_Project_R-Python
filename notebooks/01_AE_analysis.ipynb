{
  "nbformat": 4,
  "nbformat_minor": 0,
  "metadata": {
    "colab": {
      "provenance": [],
      "authorship_tag": "ABX9TyOicAgMFrtGEZswgMrmWUpD",
      "include_colab_link": true
    },
    "kernelspec": {
      "name": "python3",
      "display_name": "Python 3"
    },
    "language_info": {
      "name": "python"
    }
  },
  "cells": [
    {
      "cell_type": "markdown",
      "metadata": {
        "id": "view-in-github",
        "colab_type": "text"
      },
      "source": [
        "<a href=\"https://colab.research.google.com/github/91072puu/Clinical_Study_Project_R-Python/blob/main/notebooks/01_AE_analysis.ipynb\" target=\"_parent\"><img src=\"https://colab.research.google.com/assets/colab-badge.svg\" alt=\"Open In Colab\"/></a>"
      ]
    },
    {
      "cell_type": "code",
      "execution_count": null,
      "metadata": {
        "id": "e9KnGc6U8uXm"
      },
      "outputs": [],
      "source": []
    },
    {
      "cell_type": "markdown",
      "source": [
        "### Setup R"
      ],
      "metadata": {
        "id": "YUEYkwCkrQ95"
      }
    },
    {
      "cell_type": "code",
      "source": [
        "#!pip install -q rpy2\n",
        "#%load_ext rpy2.ipython\n",
        "\n",
        "#test\n",
        "#%%R\n",
        "#x<- c(1,2,3)\n",
        "#mean(x)"
      ],
      "metadata": {
        "id": "2713mNGlrTtt",
        "collapsed": true
      },
      "execution_count": 9,
      "outputs": []
    },
    {
      "cell_type": "code",
      "source": [
        "#Data Upload\n",
        "#from google.colab import files\n",
        "#uploaded = files.upload()"
      ],
      "metadata": {
        "id": "HMshaenw7BOi"
      },
      "execution_count": 8,
      "outputs": []
    },
    {
      "cell_type": "code",
      "source": [
        "#Read data\n",
        "import pandas as pd\n",
        "\n",
        "ae=pd.read_sas(\"ae.xpt\", format=\"xport\")\n",
        "#ae.head()\n",
        "#ae.describe()\n",
        "\n",
        "dm=pd.read_sas(\"dm.xpt\", format=\"xport\")\n",
        "#dm.head()\n",
        "#dm.describe()\n",
        "\n",
        "#Data merge\n",
        "merged_ae = pd.merge(ae, dm, on=\"USUBJID\", how=\"left\")\n",
        "\n",
        "#check\n",
        "print(merged_ae.head())\n",
        "\n"
      ],
      "metadata": {
        "colab": {
          "base_uri": "https://localhost:8080/"
        },
        "collapsed": true,
        "id": "jbuXrlYW82v9",
        "outputId": "deb63d90-5c45-41c8-da63-c8fd827281b9"
      },
      "execution_count": 7,
      "outputs": [
        {
          "output_type": "stream",
          "name": "stdout",
          "text": [
            "         STUDYID_x DOMAIN_x         USUBJID  AESEQ  AESPID  \\\n",
            "0  b'CDISCPILOT01'    b'AE'  b'01-701-1015'    1.0  b'E07'   \n",
            "1  b'CDISCPILOT01'    b'AE'  b'01-701-1015'    2.0  b'E08'   \n",
            "2  b'CDISCPILOT01'    b'AE'  b'01-701-1015'    3.0  b'E06'   \n",
            "3  b'CDISCPILOT01'    b'AE'  b'01-701-1023'    3.0  b'E10'   \n",
            "4  b'CDISCPILOT01'    b'AE'  b'01-701-1023'    1.0  b'E08'   \n",
            "\n",
            "                                    AETERM                        AELLT  \\\n",
            "0             b'APPLICATION SITE ERYTHEMA'  b'APPLICATION SITE REDNESS'   \n",
            "1             b'APPLICATION SITE PRURITUS'  b'APPLICATION SITE ITCHING'   \n",
            "2                             b'DIARRHOEA'                  b'DIARRHEA'   \n",
            "3  b'ATRIOVENTRICULAR BLOCK SECOND DEGREE'    b'AV BLOCK SECOND DEGREE'   \n",
            "4                              b'ERYTHEMA'                  b'ERYTHEMA'   \n",
            "\n",
            "   AELLTCD                                  AEDECOD  AEPTCD  ...   SEX  \\\n",
            "0      NaN             b'APPLICATION SITE ERYTHEMA'     NaN  ...  b'F'   \n",
            "1      NaN             b'APPLICATION SITE PRURITUS'     NaN  ...  b'F'   \n",
            "2      NaN                             b'DIARRHOEA'     NaN  ...  b'F'   \n",
            "3      NaN  b'ATRIOVENTRICULAR BLOCK SECOND DEGREE'     NaN  ...  b'M'   \n",
            "4      NaN                              b'ERYTHEMA'     NaN  ...  b'M'   \n",
            "\n",
            "       RACE                 ETHNIC   ARMCD         ARM  ACTARMCD      ACTARM  \\\n",
            "0  b'WHITE'  b'HISPANIC OR LATINO'  b'Pbo'  b'Placebo'    b'Pbo'  b'Placebo'   \n",
            "1  b'WHITE'  b'HISPANIC OR LATINO'  b'Pbo'  b'Placebo'    b'Pbo'  b'Placebo'   \n",
            "2  b'WHITE'  b'HISPANIC OR LATINO'  b'Pbo'  b'Placebo'    b'Pbo'  b'Placebo'   \n",
            "3  b'WHITE'  b'HISPANIC OR LATINO'  b'Pbo'  b'Placebo'    b'Pbo'  b'Placebo'   \n",
            "4  b'WHITE'  b'HISPANIC OR LATINO'  b'Pbo'  b'Placebo'    b'Pbo'  b'Placebo'   \n",
            "\n",
            "   COUNTRY          DMDTC  DMDY  \n",
            "0   b'USA'  b'2013-12-26'  -7.0  \n",
            "1   b'USA'  b'2013-12-26'  -7.0  \n",
            "2   b'USA'  b'2013-12-26'  -7.0  \n",
            "3   b'USA'  b'2012-07-22' -14.0  \n",
            "4   b'USA'  b'2012-07-22' -14.0  \n",
            "\n",
            "[5 rows x 59 columns]\n"
          ]
        }
      ]
    },
    {
      "cell_type": "markdown",
      "source": [
        "### Read data with Python"
      ],
      "metadata": {
        "id": "A1-fOM-Totlr"
      }
    }
  ]
}