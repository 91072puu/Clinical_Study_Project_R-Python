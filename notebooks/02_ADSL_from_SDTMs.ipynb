{
 "cells": [
  {
   "cell_type": "markdown",
   "metadata": {
    "id": "eEXLVbAHc_sj"
   },
   "source": [
    "## This notebook is for practicing creating ADSL from SDTMs using Python."
   ]
  },
  {
   "cell_type": "markdown",
   "metadata": {},
   "source": [
    "### Functions to merge Main domain and SUPP "
   ]
  },
  {
   "cell_type": "code",
   "execution_count": 1,
   "metadata": {
    "colab": {
     "base_uri": "https://localhost:8080/"
    },
    "id": "lD78m5M-chMI",
    "outputId": "f05bfec0-5963-4628-bbaf-c37fae571cf2"
   },
   "outputs": [],
   "source": [
    "import pandas as pd\n",
    "import numpy as np\n",
    "import matplotlib.pyplot as plt\n",
    "\n",
    "# Read XPT file\n",
    "def read_xpt(filename):\n",
    "    return pd.read_sas(filename, format=\"xport\", encoding=\"utf-8\")\n",
    "\n",
    "# Decode byte columns to string\n",
    "def decode_byte_columns(df):\n",
    "    for col in df.columns:\n",
    "        if df[col].dtype == \"object\":\n",
    "            df[col] = df[col].apply(lambda x: x.decode(\"utf-8\") if isinstance(x, bytes) else x)\n",
    "    return df\n",
    "\n",
    "# Merge main domain and its corresponding SUPP-- dataset\n",
    "def merge_supp(main_df, supp_df, domain_name):\n",
    "    if supp_df is None or supp_df.empty:\n",
    "        return main_df\n",
    "\n",
    "    supp_df = supp_df[supp_df['RDOMAIN'] == domain_name].copy()\n",
    "\n",
    "    # if no IDVAR then pivot by USUBJID\n",
    "    if 'IDVAR' not in supp_df.columns or supp_df['IDVAR'].isna().all() or all(supp_df['IDVAR'].str.strip() == ''):\n",
    "        supp_pivot = (\n",
    "            supp_df.pivot_table(index=\"USUBJID\", columns=\"QNAM\", values=\"QVAL\", aggfunc=\"first\")\n",
    "            .reset_index()\n",
    "        )\n",
    "        merged = pd.merge(main_df, supp_pivot, on=\"USUBJID\", how=\"left\")\n",
    "    else:\n",
    "        # pivot by USUBJID IDVAR\n",
    "        merged = main_df.copy()\n",
    "        for idvar in supp_df['IDVAR'].dropna().unique():\n",
    "            if idvar.strip() == \"\":\n",
    "                continue\n",
    "\n",
    "            temp = supp_df[supp_df['IDVAR'] == idvar].copy()\n",
    "\n",
    "            if idvar in main_df.columns:\n",
    "                temp[\"IDVARVAL\"] = temp[\"IDVARVAL\"].astype(main_df[idvar].dtype)\n",
    "\n",
    "            temp = temp.rename(columns={\"IDVARVAL\": idvar})\n",
    "\n",
    "            supp_pivot = (\n",
    "                temp.pivot_table(index=[\"USUBJID\", idvar], columns=\"QNAM\", values=\"QVAL\", aggfunc=\"first\")\n",
    "                .reset_index()\n",
    "            )\n",
    "            merged = pd.merge(merged, supp_pivot, on=[\"USUBJID\", idvar], how=\"left\")\n",
    "\n",
    "    return merged\n",
    "\n",
    "# Main function to read and merge SDTMs and SUPP--\n",
    "def read_and_merge(domains):\n",
    "    dataframes = {}\n",
    "    supp_domains = {}\n",
    "\n",
    "    for domain in domains:\n",
    "        main_df = decode_byte_columns(read_xpt(f\"{domain}.xpt\"))\n",
    "        dataframes[domain] = main_df\n",
    "\n",
    "        supp_file = f\"SUPP{domain}.xpt\"\n",
    "        try:\n",
    "            supp_df = decode_byte_columns(read_xpt(supp_file))\n",
    "            supp_domains[domain] = supp_df\n",
    "        except FileNotFoundError:\n",
    "            supp_domains[domain] = None\n",
    "\n",
    "    for domain in domains:\n",
    "        supp_df = supp_domains.get(domain)\n",
    "        if supp_df is not None and not supp_df.empty:\n",
    "            dataframes[domain] = merge_supp(dataframes[domain], supp_df, domain_name=domain)\n",
    "\n",
    "    return dataframes\n",
    "\n",
    "\n",
    "\n"
   ]
  },
  {
   "cell_type": "markdown",
   "metadata": {},
   "source": [
    "### Creating ADSL vars"
   ]
  },
  {
   "cell_type": "code",
   "execution_count": 9,
   "metadata": {},
   "outputs": [],
   "source": [
    "# Read data\n",
    "domains = [\"DM\", \"EX\", \"DS\"]\n",
    "merged_data = read_and_merge(domains)\n",
    "\n",
    "dm = merged_data[\"DM\"]\n",
    "ex = merged_data[\"EX\"]\n",
    "ds = merged_data[\"DS\"]\n",
    "\n",
    "\n",
    "# TRTSDT / TRTEDT\n",
    "ex['exstdtc_dt'] = pd.to_datetime(ex['EXSTDTC'], errors='coerce')\n",
    "ex['exendtc_dt'] = pd.to_datetime(ex['EXENDTC'], errors='coerce')\n",
    "\n",
    "trt_dates = ex.groupby('USUBJID').agg(\n",
    "    TRTSDT=('exstdtc_dt','min'),\n",
    "    TRTEDT=('exendtc_dt','max')\n",
    ").reset_index()\n",
    "\n",
    "# Merge to DM\n",
    "adsl_temp = pd.merge(dm, trt_dates, on=\"USUBJID\", how=\"left\")\n",
    "\n",
    "# Rename\n",
    "adsl_temp = adsl_temp.rename(columns={'ARM': 'TRT01P', 'ACTARM': 'TRT01A'})\n",
    "\n",
    "# AGEGRP1\n",
    "adsl_temp['AGEGRP1'] = pd.cut(adsl_temp['AGE'],\n",
    "                              bins=[0, 65, 75, np.inf],\n",
    "                              labels = ['<65', '65-74', '75+'],\n",
    "                              include_lowest=True) #if there is 0 years old (not for this data...)\n",
    "\n",
    "# FASFL\n",
    "adsl_temp['FASFL'] = np.where(adsl_temp['TRTSDT'].notna(), 'Y', 'N')\n",
    "\n",
    "# Final ADSL\n",
    "adsl_vars = [\n",
    "    'STUDYID', 'USUBJID', 'SUBJID', 'AGEU', 'AGE', 'AGEGRP1', \n",
    "    'SEX', 'RACE', 'TRTSDT', 'TRTEDT', 'TRT01P', 'TRT01A', 'FASFL'\n",
    "]\n",
    "ADSL = adsl_temp[adsl_vars].copy()\n",
    "\n",
    "#Duplicate check\n",
    "assert ADSL['USUBJID'].is_unique, \"There are duplicate USUBJID in ADSL!\"\n",
    "\n"
   ]
  },
  {
   "cell_type": "markdown",
   "metadata": {
    "id": "ouOqcdeuoCqz"
   },
   "source": [
    "### Data checks"
   ]
  },
  {
   "cell_type": "code",
   "execution_count": 10,
   "metadata": {
    "colab": {
     "base_uri": "https://localhost:8080/"
    },
    "id": "CBawbD_voCLs",
    "outputId": "b7e52807-9153-430d-831d-db35e3a6b410"
   },
   "outputs": [
    {
     "name": "stdout",
     "output_type": "stream",
     "text": [
      "Index(['STUDYID', 'DOMAIN', 'USUBJID', 'SUBJID', 'RFSTDTC', 'RFENDTC',\n",
      "       'RFXSTDTC', 'RFXENDTC', 'RFICDTC', 'RFPENDTC', 'DTHDTC', 'DTHFL',\n",
      "       'SITEID', 'AGE', 'AGEU', 'SEX', 'RACE', 'ETHNIC', 'ARMCD', 'ARM',\n",
      "       'ACTARMCD', 'ACTARM', 'COUNTRY', 'DMDTC', 'DMDY', 'COMPLT16',\n",
      "       'COMPLT24', 'COMPLT8', 'EFFICACY', 'ITT', 'SAFETY'],\n",
      "      dtype='object')\n"
     ]
    }
   ],
   "source": [
    "#Data checks\n",
    "#print(ds.head())\n",
    "print(dm.columns)\n",
    "#list(dm.columns)\n",
    "\n",
    "\n",
    "\n",
    "# Data types\n",
    "#print(adsl.dtypes)\n",
    "\n",
    "# Check missing values\n",
    "#print(adsl.isnull().sum())\n",
    "\n",
    "# Check unique values\n",
    "#print(suppdm['QNAM'].unique())\n",
    "#print(adsl['RACE'].unique())\n",
    "\n",
    "# Check summary stats\n",
    "#print(adsl.describe())\n",
    "\n",
    "# Check value counts by categories\n",
    "#print(adsl['AGEGRP1'].value_counts())\n",
    "\n",
    "#Descriptive stat.\n",
    "#print(dm['AGE'].describe())\n",
    "\n",
    "#histogram\n",
    "\n",
    "#dm['AGE'].hist(bins=20)\n",
    "#plt.xlabel('Age')\n",
    "#plt.ylabel('Count')\n",
    "#plt.title('Age Distribution')\n",
    "#plt.show()\n"
   ]
  }
 ],
 "metadata": {
  "colab": {
   "provenance": [],
   "toc_visible": true
  },
  "kernelspec": {
   "display_name": "Python 3",
   "language": "python",
   "name": "python3"
  },
  "language_info": {
   "codemirror_mode": {
    "name": "ipython",
    "version": 3
   },
   "file_extension": ".py",
   "mimetype": "text/x-python",
   "name": "python",
   "nbconvert_exporter": "python",
   "pygments_lexer": "ipython3",
   "version": "3.13.3"
  }
 },
 "nbformat": 4,
 "nbformat_minor": 4
}
