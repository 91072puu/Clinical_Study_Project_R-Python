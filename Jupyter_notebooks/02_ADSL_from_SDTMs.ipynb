{
 "cells": [
  {
   "cell_type": "markdown",
   "metadata": {
    "id": "eEXLVbAHc_sj"
   },
   "source": [
    "### This notebook is for practicing creating ADSL from SDTMs using Python."
   ]
  },
  {
   "cell_type": "code",
   "execution_count": 1,
   "metadata": {
    "colab": {
     "base_uri": "https://localhost:8080/"
    },
    "id": "lD78m5M-chMI",
    "outputId": "f05bfec0-5963-4628-bbaf-c37fae571cf2"
   },
   "outputs": [],
   "source": [
    "#Read data\n",
    "import pandas as pd\n",
    "\n",
    "dm=pd.read_sas(\"dm.xpt\", format=\"xport\")\n",
    "ex=pd.read_sas(\"ex.xpt\", format=\"xport\")\n",
    "\n",
    "# Convert byte strings to regular strings\n",
    "dataframes = [dm, ex]\n",
    "\n",
    "for df in dataframes:\n",
    "  for col in df.columns:\n",
    "    df[col] = df[col].apply(lambda x: x.decode('utf-8') if isinstance(x, bytes) else x)\n",
    "\n",
    "\n",
    "# TRTSDT and TRTEDT\n",
    "ex['exstdtc_dt'] = pd.to_datetime(ex['EXSTDTC'], errors='coerce')\n",
    "ex['exendtc_dt'] = pd.to_datetime(ex['EXENDTC'], errors='coerce')\n",
    "\n",
    "trt_dates = ex.groupby('USUBJID').agg(TRTSDT=('exstdtc_dt','min'),\n",
    "                                      TRTEDT= ('exendtc_dt','max')).reset_index()\n",
    "\n",
    "# Merge to DM\n",
    "adsl_ = pd.merge(dm, trt_dates, on=\"USUBJID\", how=\"left\")\n",
    "\n",
    "# Final ADSL\n",
    "adsl_vars = ['STUDYID', 'USUBJID', 'SUBJID', 'AGEU', 'AGE', 'SEX', 'RACE','TRTSDT','TRTEDT']\n",
    "adsl = adsl_[adsl_vars]\n",
    "\n",
    "#print(adsl.head())\n"
   ]
  },
  {
   "cell_type": "markdown",
   "metadata": {
    "id": "ouOqcdeuoCqz"
   },
   "source": [
    "### Data checks"
   ]
  },
  {
   "cell_type": "code",
   "execution_count": null,
   "metadata": {
    "colab": {
     "base_uri": "https://localhost:8080/"
    },
    "id": "CBawbD_voCLs",
    "outputId": "b7e52807-9153-430d-831d-db35e3a6b410"
   },
   "outputs": [
    {
     "name": "stdout",
     "output_type": "stream",
     "text": [
      "        STUDYID      USUBJID SUBJID   AGEU  AGE SEX   RACE     TRTSDT  \\\n",
      "0  CDISCPILOT01  01-701-1015   1015  YEARS   63   F  WHITE 2014-01-02   \n",
      "1  CDISCPILOT01  01-701-1023   1023  YEARS   64   M  WHITE 2012-08-05   \n",
      "2  CDISCPILOT01  01-701-1028   1028  YEARS   71   M  WHITE 2013-07-19   \n",
      "3  CDISCPILOT01  01-701-1033   1033  YEARS   74   M  WHITE 2014-03-18   \n",
      "4  CDISCPILOT01  01-701-1034   1034  YEARS   77   F  WHITE 2014-07-01   \n",
      "\n",
      "      TRTEDT  \n",
      "0 2014-07-02  \n",
      "1 2012-09-01  \n",
      "2 2014-01-14  \n",
      "3 2014-03-31  \n",
      "4 2014-12-30  \n",
      "STUDYID            object\n",
      "USUBJID            object\n",
      "SUBJID             object\n",
      "AGEU               object\n",
      "AGE                 int64\n",
      "SEX                object\n",
      "RACE               object\n",
      "TRTSDT     datetime64[ns]\n",
      "TRTEDT     datetime64[ns]\n",
      "dtype: object\n",
      "STUDYID     0\n",
      "USUBJID     0\n",
      "SUBJID      0\n",
      "AGEU        0\n",
      "AGE         0\n",
      "SEX         0\n",
      "RACE        0\n",
      "TRTSDT     52\n",
      "TRTEDT     54\n",
      "dtype: int64\n",
      "['F' 'M']\n",
      "['WHITE' 'AMERICAN INDIAN OR ALASKA NATIVE' 'BLACK OR AFRICAN AMERICAN'\n",
      " 'ASIAN']\n",
      "              AGE                         TRTSDT  \\\n",
      "count  306.000000                            254   \n",
      "mean    75.088235  2013-06-17 12:28:20.787401472   \n",
      "min     50.000000            2012-07-09 00:00:00   \n",
      "25%     70.250000            2013-01-26 06:00:00   \n",
      "50%     77.000000            2013-06-13 12:00:00   \n",
      "75%     81.000000            2013-11-07 06:00:00   \n",
      "max     89.000000            2014-09-02 00:00:00   \n",
      "std      8.493511                            NaN   \n",
      "\n",
      "                              TRTEDT  \n",
      "count                            252  \n",
      "mean   2013-10-09 19:42:51.428571392  \n",
      "min              2012-08-28 00:00:00  \n",
      "25%              2013-05-10 00:00:00  \n",
      "50%              2013-09-30 00:00:00  \n",
      "75%              2014-03-09 12:00:00  \n",
      "max              2015-03-05 00:00:00  \n",
      "std                              NaN  \n",
      "SEX\n",
      "F    179\n",
      "M    127\n",
      "Name: count, dtype: int64\n"
     ]
    }
<<<<<<< HEAD:Jupyter_notebooks/02_ADSL_from_SDTMs.ipynb
  ]
=======
   ],
   "source": [
    "#Data checks\n",
    "#To check Columns\n",
    "#print(dm.columns)\n",
    "print(adsl.head())\n",
    "#list(dm.columns)\n",
    "#ex.describe()\n",
    "\n",
    "# Data types\n",
    "print(adsl.dtypes)\n",
    "\n",
    "# Check missing values\n",
    "print(adsl.isnull().sum())\n",
    "\n",
    "# Check unique values\n",
    "print(adsl['SEX'].unique())\n",
    "print(adsl['RACE'].unique())\n",
    "\n",
    "# Check summary stats\n",
    "print(adsl.describe())\n",
    "\n",
    "# Check value counts by categories\n",
    "print(adsl['SEX'].value_counts())\n",
    "\n"
   ]
  }
 ],
 "metadata": {
  "colab": {
   "provenance": [],
   "toc_visible": true
  },
  "kernelspec": {
   "display_name": "Python 3 (ipykernel)",
   "language": "python",
   "name": "python3"
  },
  "language_info": {
   "codemirror_mode": {
    "name": "ipython",
    "version": 3
   },
   "file_extension": ".py",
   "mimetype": "text/x-python",
   "name": "python",
   "nbconvert_exporter": "python",
   "pygments_lexer": "ipython3",
   "version": "3.13.3"
  }
 },
 "nbformat": 4,
 "nbformat_minor": 4
>>>>>>> d6bcd1c (Practice with R command):02_ADSL_from_SDTMs.ipynb
}
