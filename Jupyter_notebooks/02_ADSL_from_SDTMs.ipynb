{
 "cells": [
  {
   "cell_type": "markdown",
   "metadata": {
    "id": "eEXLVbAHc_sj"
   },
   "source": [
    "### This notebook is for practicing creating ADSL from SDTMs using Python."
   ]
  },
  {
   "cell_type": "code",
   "execution_count": 16,
   "metadata": {
    "colab": {
     "base_uri": "https://localhost:8080/"
    },
    "id": "lD78m5M-chMI",
    "outputId": "f05bfec0-5963-4628-bbaf-c37fae571cf2"
   },
   "outputs": [
    {
     "name": "stdout",
     "output_type": "stream",
     "text": [
      "          STUDYID DOMAIN      USUBJID SUBJID     RFSTDTC     RFENDTC  \\\n",
      "0    CDISCPILOT01     DM  01-701-1015   1015  2014-01-02  2014-07-02   \n",
      "1    CDISCPILOT01     DM  01-701-1023   1023  2012-08-05  2012-09-02   \n",
      "2    CDISCPILOT01     DM  01-701-1028   1028  2013-07-19  2014-01-14   \n",
      "3    CDISCPILOT01     DM  01-701-1033   1033  2014-03-18  2014-04-14   \n",
      "4    CDISCPILOT01     DM  01-701-1034   1034  2014-07-01  2014-12-30   \n",
      "..            ...    ...          ...    ...         ...         ...   \n",
      "301  CDISCPILOT01     DM  01-718-1254   1254  2013-07-10  2014-01-09   \n",
      "302  CDISCPILOT01     DM  01-718-1328   1328  2013-02-01  2013-05-01   \n",
      "303  CDISCPILOT01     DM  01-718-1355   1355  2013-02-28  2013-08-29   \n",
      "304  CDISCPILOT01     DM  01-718-1371   1371  2013-04-26  2013-08-08   \n",
      "305  CDISCPILOT01     DM  01-718-1427   1427  2012-12-17  2013-02-18   \n",
      "\n",
      "       RFXSTDTC    RFXENDTC RFICDTC          RFPENDTC  ...   ARMCD  \\\n",
      "0    2014-01-02  2014-07-02          2014-07-02T11:45  ...     Pbo   \n",
      "1    2012-08-05  2012-09-01                2013-02-18  ...     Pbo   \n",
      "2    2013-07-19  2014-01-14          2014-01-14T11:10  ...  Xan_Hi   \n",
      "3    2014-03-18  2014-03-31                2014-09-15  ...  Xan_Lo   \n",
      "4    2014-07-01  2014-12-30          2014-12-30T09:50  ...  Xan_Hi   \n",
      "..          ...         ...     ...               ...  ...     ...   \n",
      "301  2013-07-10  2014-01-09          2014-01-09T11:10  ...  Xan_Lo   \n",
      "302  2013-02-01  2013-04-18                2013-07-24  ...  Xan_Hi   \n",
      "303  2013-02-28  2013-08-29          2013-08-29T14:00  ...     Pbo   \n",
      "304  2013-04-26  2013-08-01                2013-08-08  ...  Xan_Hi   \n",
      "305  2012-12-17  2013-02-11                2013-06-03  ...  Xan_Hi   \n",
      "\n",
      "                   TRT01P ACTARMCD                TRT01A COUNTRY       DMDTC  \\\n",
      "0                 Placebo      Pbo               Placebo     USA  2013-12-26   \n",
      "1                 Placebo      Pbo               Placebo     USA  2012-07-22   \n",
      "2    Xanomeline High Dose   Xan_Hi  Xanomeline High Dose     USA  2013-07-11   \n",
      "3     Xanomeline Low Dose   Xan_Lo   Xanomeline Low Dose     USA  2014-03-10   \n",
      "4    Xanomeline High Dose   Xan_Hi  Xanomeline High Dose     USA  2014-06-24   \n",
      "..                    ...      ...                   ...     ...         ...   \n",
      "301   Xanomeline Low Dose   Xan_Lo   Xanomeline Low Dose     USA  2013-06-28   \n",
      "302  Xanomeline High Dose   Xan_Hi  Xanomeline High Dose     USA  2013-01-28   \n",
      "303               Placebo      Pbo               Placebo     USA  2013-02-12   \n",
      "304  Xanomeline High Dose   Xan_Hi  Xanomeline High Dose     USA  2013-04-11   \n",
      "305  Xanomeline High Dose   Xan_Hi  Xanomeline High Dose     USA  2012-12-13   \n",
      "\n",
      "     DMDY     TRTSDT     TRTEDT AGEGRP1  \n",
      "0    -7.0 2014-01-02 2014-07-02     <64  \n",
      "1   -14.0 2012-08-05 2012-09-01     <64  \n",
      "2    -8.0 2013-07-19 2014-01-14   65-74  \n",
      "3    -8.0 2014-03-18 2014-03-31   65-74  \n",
      "4    -7.0 2014-07-01 2014-12-30     75+  \n",
      "..    ...        ...        ...     ...  \n",
      "301 -12.0 2013-07-10 2014-01-09     75+  \n",
      "302  -4.0 2013-02-01 2013-04-18     75+  \n",
      "303 -16.0 2013-02-28 2013-08-29     75+  \n",
      "304 -15.0 2013-04-26 2013-08-01   65-74  \n",
      "305  -4.0 2012-12-17 2013-02-11   65-74  \n",
      "\n",
      "[306 rows x 28 columns]\n"
     ]
    }
   ],
   "source": [
    "#Read data\n",
    "import pandas as pd\n",
    "\n",
    "dm=pd.read_sas(\"dm.xpt\", format=\"xport\")\n",
    "ex=pd.read_sas(\"ex.xpt\", format=\"xport\")\n",
    "\n",
    "\n",
    "# Convert byte strings to regular strings\n",
    "dataframes = [dm, ex]\n",
    "\n",
    "for df in dataframes:\n",
    "  for col in df.columns:\n",
    "    df[col] = df[col].apply(lambda x: x.decode('utf-8') if isinstance(x, bytes) else x)\n",
    "\n",
    "\n",
    "# TRTSDT and TRTEDT\n",
    "ex['exstdtc_dt'] = pd.to_datetime(ex['EXSTDTC'], errors='coerce')\n",
    "ex['exendtc_dt'] = pd.to_datetime(ex['EXENDTC'], errors='coerce')\n",
    "\n",
    "trt_dates = ex.groupby('USUBJID').agg(TRTSDT=('exstdtc_dt','min'),\n",
    "                                      TRTEDT= ('exendtc_dt','max')).reset_index()\n",
    "\n",
    "# Merge to DM\n",
    "adsl_ = pd.merge(dm, trt_dates, on=\"USUBJID\", how=\"left\")\n",
    "\n",
    "#TRT01P/TRT01A\n",
    "adsl_ = adsl_.rename(columns={'ARM': 'TRT01P',\n",
    "                              'ACTARM': 'TRT01A'})\n",
    "\n",
    "#AGEGRP1\n",
    "adsl_['AGEGRP1'] = pd.cut(adsl_['AGE'],\n",
    "                          bins = [0, 65, 75, 100],\n",
    "                          labels = ['<64', '65-74', '75+'])\n",
    "\n",
    "print(adsl_)\n",
    "\n",
    "# Final ADSL\n",
    "adsl_vars = ['STUDYID', 'USUBJID', 'SUBJID', 'AGEU', 'AGE', 'AGEGRP1', 'SEX', 'RACE','TRTSDT','TRTEDT', 'TRT01P', 'TRT01A']\n",
    "ADSL = adsl_[adsl_vars]\n",
    "\n",
    "#print(adsl.head())\n"
   ]
  },
  {
   "cell_type": "markdown",
   "metadata": {
    "id": "ouOqcdeuoCqz"
   },
   "source": [
    "### Data checks"
   ]
  },
  {
   "cell_type": "code",
   "execution_count": 18,
   "metadata": {
    "colab": {
     "base_uri": "https://localhost:8080/"
    },
    "id": "CBawbD_voCLs",
    "outputId": "b7e52807-9153-430d-831d-db35e3a6b410"
   },
   "outputs": [
    {
     "name": "stdout",
     "output_type": "stream",
     "text": [
      "['<64', '65-74', '75+']\n",
      "Categories (3, object): ['<64' < '65-74' < '75+']\n",
      "['WHITE' 'AMERICAN INDIAN OR ALASKA NATIVE' 'BLACK OR AFRICAN AMERICAN'\n",
      " 'ASIAN']\n",
      "count    306.000000\n",
      "mean      75.088235\n",
      "std        8.493511\n",
      "min       50.000000\n",
      "25%       70.250000\n",
      "50%       77.000000\n",
      "75%       81.000000\n",
      "max       89.000000\n",
      "Name: AGE, dtype: float64\n"
     ]
    },
    {
     "data": {
      "image/png": "[encoded data removed]",
      "text/plain": [
       "<Figure size 640x480 with 1 Axes>"
      ]
     },
     "metadata": {},
     "output_type": "display_data"
    }
   ],
   "source": [
    "#Data checks\n",
    "#To check Columns\n",
    "#print(dm.columns)\n",
    "#print(adsl.head())\n",
    "#list(dm.columns)\n",
    "#ex.describe()\n",
    "\n",
    "# Data types\n",
    "#print(adsl.dtypes)\n",
    "\n",
    "# Check missing values\n",
    "#print(adsl.isnull().sum())\n",
    "\n",
    "# Check unique values\n",
    "print(adsl['AGEGRP1'].unique())\n",
    "print(adsl['RACE'].unique())\n",
    "\n",
    "# Check summary stats\n",
    "#print(adsl.describe())\n",
    "\n",
    "# Check value counts by categories\n",
    "#print(adsl['AGEGRP1'].value_counts())\n",
    "\n",
    "#Descriptive stat.\n",
    "print(dm['AGE'].describe())\n",
    "\n",
    "#histogram\n",
    "import matplotlib.pyplot as plt\n",
    "\n",
    "dm['AGE'].hist(bins=20)\n",
    "plt.xlabel('Age')\n",
    "plt.ylabel('Count')\n",
    "plt.title('Age Distribution')\n",
    "plt.show()\n",
    "\n"
   ]
  }
 ],
 "metadata": {
  "colab": {
   "provenance": [],
   "toc_visible": true
  },
  "kernelspec": {
   "display_name": "senv-rpy2",
   "language": "python",
   "name": "python3"
  },
  "language_info": {
   "codemirror_mode": {
    "name": "ipython",
    "version": 3
   },
   "file_extension": ".py",
   "mimetype": "text/x-python",
   "name": "python",
   "nbconvert_exporter": "python",
   "pygments_lexer": "ipython3",
   "version": "3.11.9"
  }
 },
 "nbformat": 4,
 "nbformat_minor": 4
}
