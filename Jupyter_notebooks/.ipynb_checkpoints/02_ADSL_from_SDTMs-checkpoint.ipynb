{
 "cells": [
  {
   "cell_type": "markdown",
   "metadata": {
    "id": "eEXLVbAHc_sj"
   },
   "source": [
    "### This notebook is for practicing creating ADSL from SDTMs using Python."
   ]
  },
  {
   "cell_type": "code",
   "execution_count": 9,
   "metadata": {
    "colab": {
     "base_uri": "https://localhost:8080/"
    },
    "id": "lD78m5M-chMI",
    "outputId": "f05bfec0-5963-4628-bbaf-c37fae571cf2"
   },
   "outputs": [],
   "source": [
    "#Read data\n",
    "import pandas as pd\n",
    "\n",
    "dm=pd.read_sas(\"dm.xpt\", format=\"xport\")\n",
    "ex=pd.read_sas(\"ex.xpt\", format=\"xport\")\n",
    "\n",
    "# Convert byte strings to regular strings\n",
    "dataframes = [dm, ex]\n",
    "\n",
    "for df in dataframes:\n",
    "  for col in df.columns:\n",
    "    df[col] = df[col].apply(lambda x: x.decode('utf-8') if isinstance(x, bytes) else x)\n",
    "\n",
    "\n",
    "#TRT01P\n",
    "\n",
    "\n",
    "\n",
    "\n",
    "# TRTSDT and TRTEDT\n",
    "ex['exstdtc_dt'] = pd.to_datetime(ex['EXSTDTC'], errors='coerce')\n",
    "ex['exendtc_dt'] = pd.to_datetime(ex['EXENDTC'], errors='coerce')\n",
    "\n",
    "trt_dates = ex.groupby('USUBJID').agg(TRTSDT=('exstdtc_dt','min'),\n",
    "                                      TRTEDT= ('exendtc_dt','max')).reset_index()\n",
    "\n",
    "# Merge to DM\n",
    "adsl_ = pd.merge(dm, trt_dates, on=\"USUBJID\", how=\"left\")\n",
    "\n",
    "# Final ADSL\n",
    "adsl_vars = ['STUDYID', 'USUBJID', 'SUBJID', 'AGEU', 'AGE', 'SEX', 'RACE','TRTSDT','TRTEDT']\n",
    "adsl = adsl_[adsl_vars]\n",
    "\n",
    "#print(adsl.head())\n"
   ]
  },
  {
   "cell_type": "markdown",
   "metadata": {
    "id": "ouOqcdeuoCqz"
   },
   "source": [
    "### Data checks"
   ]
  },
  {
   "cell_type": "code",
   "execution_count": 1,
   "metadata": {
    "colab": {
     "base_uri": "https://localhost:8080/"
    },
    "id": "CBawbD_voCLs",
    "outputId": "b7e52807-9153-430d-831d-db35e3a6b410"
   },
   "outputs": [
    {
     "ename": "NameError",
     "evalue": "name 'dm' is not defined",
     "output_type": "error",
     "traceback": [
      "\u001b[31m---------------------------------------------------------------------------\u001b[39m",
      "\u001b[31mNameError\u001b[39m                                 Traceback (most recent call last)",
      "\u001b[36mCell\u001b[39m\u001b[36m \u001b[39m\u001b[32mIn[1]\u001b[39m\u001b[32m, line 3\u001b[39m\n\u001b[32m      1\u001b[39m \u001b[38;5;66;03m#Data checks\u001b[39;00m\n\u001b[32m      2\u001b[39m \u001b[38;5;66;03m#To check Columns\u001b[39;00m\n\u001b[32m----> \u001b[39m\u001b[32m3\u001b[39m \u001b[38;5;28mprint\u001b[39m(\u001b[43mdm\u001b[49m.columns)\n\u001b[32m      4\u001b[39m \u001b[38;5;66;03m#print(adsl.head())\u001b[39;00m\n\u001b[32m      5\u001b[39m \u001b[38;5;66;03m#list(dm.columns)\u001b[39;00m\n\u001b[32m      6\u001b[39m \u001b[38;5;66;03m#ex.describe()\u001b[39;00m\n\u001b[32m      7\u001b[39m \n\u001b[32m      8\u001b[39m \u001b[38;5;66;03m# Data types\u001b[39;00m\n\u001b[32m      9\u001b[39m \u001b[38;5;28mprint\u001b[39m(adsl.dtypes)\n",
      "\u001b[31mNameError\u001b[39m: name 'dm' is not defined"
     ]
    }
   ],
   "source": [
    "#Data checks\n",
    "#To check Columns\n",
    "print(dm.columns)\n",
    "#print(adsl.head())\n",
    "#list(dm.columns)\n",
    "#ex.describe()\n",
    "\n",
    "# Data types\n",
    "print(adsl.dtypes)\n",
    "\n",
    "# Check missing values\n",
    "print(adsl.isnull().sum())\n",
    "\n",
    "# Check unique values\n",
    "print(adsl['SEX'].unique())\n",
    "print(adsl['RACE'].unique())\n",
    "\n",
    "# Check summary stats\n",
    "print(adsl.describe())\n",
    "\n",
    "# Check value counts by categories\n",
    "print(adsl['SEX'].value_counts())\n",
    "\n"
   ]
  }
 ],
 "metadata": {
  "colab": {
   "provenance": [],
   "toc_visible": true
  },
  "kernelspec": {
   "display_name": "Python 3 (ipykernel)",
   "language": "python",
   "name": "python3"
  },
  "language_info": {
   "codemirror_mode": {
    "name": "ipython",
    "version": 3
   },
   "file_extension": ".py",
   "mimetype": "text/x-python",
   "name": "python",
   "nbconvert_exporter": "python",
   "pygments_lexer": "ipython3",
   "version": "3.13.3"
  }
 },
 "nbformat": 4,
 "nbformat_minor": 4
}
